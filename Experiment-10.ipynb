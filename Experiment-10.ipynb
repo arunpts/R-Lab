{
 "cells": [
  {
   "cell_type": "markdown",
   "metadata": {},
   "source": [
    "#R Programming Language Lab\n",
    "\n",
    "**LAB EXPERIMENT NO. 10**  R Programming Language                               - Asst. Prof. Ashwini Mathur(SET-JAIN)"
   ]
  },
  {
   "cell_type": "markdown",
   "metadata": {},
   "source": [
    "1.\tUse R-function matrix to create the matrices called A and B: \n",
    "2.\tTake the inverse of A and the transpose of A. \n",
    "3.\tMultiply A with B.\n",
    "4.\tEstimate the eigenvalues and eigenvectors of A.\n",
    "5.\tFor a matrix A, x is an eigenvector, and λ the eigenvalue of a matrix A, if A • x = λ • x. Test it!\n",
    "6.\tCreate a new matrix, T, which equals P, except for the first row, where the elements are 0.\n",
    "7.\tNow estimate N= (I-T)-1, where I is the identity matrix.\n",
    "8.\tFind the root of the equation f(x) = cos(2x)^3 in the interval [0, 8]. And draw the function curve.\n",
    "\n",
    "\n",
    "Self work ...... \n",
    "\n",
    "9.\tSolve the equations 1000 = y ∗ (3 + x) ∗ (1 + y)4 for y and with x varying over the range from 1 to 100. Plot the root as a  function of x."
   ]
  },
  {
   "cell_type": "markdown",
   "metadata": {},
   "source": [
    "**Question:1.** Use R-function matrix to create the matrices called A and B."
   ]
  },
  {
   "cell_type": "code",
   "execution_count": 63,
   "metadata": {},
   "outputs": [
    {
     "data": {
      "text/html": [
       "<table>\n",
       "<caption>A matrix: 3 × 3 of type dbl</caption>\n",
       "<tbody>\n",
       "\t<tr><td> 1</td><td>1</td><td>-2</td></tr>\n",
       "\t<tr><td>-1</td><td>2</td><td> 1</td></tr>\n",
       "\t<tr><td> 0</td><td>1</td><td>-1</td></tr>\n",
       "</tbody>\n",
       "</table>\n"
      ],
      "text/latex": [
       "A matrix: 3 × 3 of type dbl\n",
       "\\begin{tabular}{lll}\n",
       "\t  1 & 1 & -2\\\\\n",
       "\t -1 & 2 &  1\\\\\n",
       "\t  0 & 1 & -1\\\\\n",
       "\\end{tabular}\n"
      ],
      "text/markdown": [
       "\n",
       "A matrix: 3 × 3 of type dbl\n",
       "\n",
       "|  1 | 1 | -2 |\n",
       "| -1 | 2 |  1 |\n",
       "|  0 | 1 | -1 |\n",
       "\n"
      ],
      "text/plain": [
       "     [,1] [,2] [,3]\n",
       "[1,]  1   1    -2  \n",
       "[2,] -1   2     1  \n",
       "[3,]  0   1    -1  "
      ]
     },
     "metadata": {},
     "output_type": "display_data"
    },
    {
     "data": {
      "text/html": [
       "<table>\n",
       "<caption>A matrix: 3 × 3 of type dbl</caption>\n",
       "<tbody>\n",
       "\t<tr><td>6</td><td> 2</td><td> 0</td></tr>\n",
       "\t<tr><td>8</td><td>-2</td><td> 2</td></tr>\n",
       "\t<tr><td>4</td><td> 2</td><td>-2</td></tr>\n",
       "</tbody>\n",
       "</table>\n"
      ],
      "text/latex": [
       "A matrix: 3 × 3 of type dbl\n",
       "\\begin{tabular}{lll}\n",
       "\t 6 &  2 &  0\\\\\n",
       "\t 8 & -2 &  2\\\\\n",
       "\t 4 &  2 & -2\\\\\n",
       "\\end{tabular}\n"
      ],
      "text/markdown": [
       "\n",
       "A matrix: 3 × 3 of type dbl\n",
       "\n",
       "| 6 |  2 |  0 |\n",
       "| 8 | -2 |  2 |\n",
       "| 4 |  2 | -2 |\n",
       "\n"
      ],
      "text/plain": [
       "     [,1] [,2] [,3]\n",
       "[1,] 6     2    0  \n",
       "[2,] 8    -2    2  \n",
       "[3,] 4     2   -2  "
      ]
     },
     "metadata": {},
     "output_type": "display_data"
    }
   ],
   "source": [
    "A <- matrix( c(1,1,-2,-1,2,1,0,1,-1), nrow=3, byrow=TRUE)\n",
    "B <- matrix( c(6, 2, 0,8,-2, 2,4, 2,-2), nrow=3, byrow=TRUE)\n",
    "\n",
    "A #print matrix A\n",
    "B #Print matrix B"
   ]
  },
  {
   "cell_type": "markdown",
   "metadata": {},
   "source": [
    "One of the most widely used kinds of matrix decomposition is called eigendecomposition, in which we decompose a matrix into a set of eigenvectors and eigenvalues."
   ]
  },
  {
   "cell_type": "markdown",
   "metadata": {},
   "source": [
    "**Question:2.**Take the inverse of A and the transpose of A. "
   ]
  },
  {
   "cell_type": "markdown",
   "metadata": {},
   "source": [
    "***Need to install the packgae <matlib> and load the library for inverse of the matrix***"
   ]
  },
  {
   "cell_type": "code",
   "execution_count": 64,
   "metadata": {},
   "outputs": [
    {
     "name": "stderr",
     "output_type": "stream",
     "text": [
      "Installing package into 'C:/Users/ashwinmathur/Documents/R/win-library/3.6'\n",
      "(as 'lib' is unspecified)\n",
      "Warning message:\n",
      "\"package 'matlib' is in use and will not be installed\""
     ]
    }
   ],
   "source": [
    "install.packages(\"matlib\")\n",
    "library(matlib)"
   ]
  },
  {
   "cell_type": "markdown",
   "metadata": {},
   "source": [
    "det(A) != 0, so inverse exists\n",
    "**Only non-singular matrices have an inverse**"
   ]
  },
  {
   "cell_type": "code",
   "execution_count": 65,
   "metadata": {},
   "outputs": [
    {
     "data": {
      "text/html": [
       "-2"
      ],
      "text/latex": [
       "-2"
      ],
      "text/markdown": [
       "-2"
      ],
      "text/plain": [
       "[1] -2"
      ]
     },
     "metadata": {},
     "output_type": "display_data"
    },
    {
     "data": {
      "text/html": [
       "-2"
      ],
      "text/latex": [
       "-2"
      ],
      "text/markdown": [
       "-2"
      ],
      "text/plain": [
       "[1] -2"
      ]
     },
     "metadata": {},
     "output_type": "display_data"
    }
   ],
   "source": [
    "det(A) #Determinant of A \n",
    "det(t(A))"
   ]
  },
  {
   "cell_type": "code",
   "execution_count": 66,
   "metadata": {},
   "outputs": [
    {
     "data": {
      "text/html": [
       "<table>\n",
       "<caption>A matrix: 3 × 3 of type dbl</caption>\n",
       "<tbody>\n",
       "\t<tr><td>1.5</td><td>0.5</td><td>-2.5</td></tr>\n",
       "\t<tr><td>0.5</td><td>0.5</td><td>-0.5</td></tr>\n",
       "\t<tr><td>0.5</td><td>0.5</td><td>-1.5</td></tr>\n",
       "</tbody>\n",
       "</table>\n"
      ],
      "text/latex": [
       "A matrix: 3 × 3 of type dbl\n",
       "\\begin{tabular}{lll}\n",
       "\t 1.5 & 0.5 & -2.5\\\\\n",
       "\t 0.5 & 0.5 & -0.5\\\\\n",
       "\t 0.5 & 0.5 & -1.5\\\\\n",
       "\\end{tabular}\n"
      ],
      "text/markdown": [
       "\n",
       "A matrix: 3 × 3 of type dbl\n",
       "\n",
       "| 1.5 | 0.5 | -2.5 |\n",
       "| 0.5 | 0.5 | -0.5 |\n",
       "| 0.5 | 0.5 | -1.5 |\n",
       "\n"
      ],
      "text/plain": [
       "     [,1] [,2] [,3]\n",
       "[1,] 1.5  0.5  -2.5\n",
       "[2,] 0.5  0.5  -0.5\n",
       "[3,] 0.5  0.5  -1.5"
      ]
     },
     "metadata": {},
     "output_type": "display_data"
    }
   ],
   "source": [
    "AI = inv(A)\n",
    "AI"
   ]
  },
  {
   "cell_type": "code",
   "execution_count": 67,
   "metadata": {},
   "outputs": [
    {
     "data": {
      "text/html": [
       "<table>\n",
       "<caption>A matrix: 3 × 3 of type dbl</caption>\n",
       "<tbody>\n",
       "\t<tr><td> 1.5</td><td> 0.5</td><td> 0.5</td></tr>\n",
       "\t<tr><td> 0.5</td><td> 0.5</td><td> 0.5</td></tr>\n",
       "\t<tr><td>-2.5</td><td>-0.5</td><td>-1.5</td></tr>\n",
       "</tbody>\n",
       "</table>\n"
      ],
      "text/latex": [
       "A matrix: 3 × 3 of type dbl\n",
       "\\begin{tabular}{lll}\n",
       "\t  1.5 &  0.5 &  0.5\\\\\n",
       "\t  0.5 &  0.5 &  0.5\\\\\n",
       "\t -2.5 & -0.5 & -1.5\\\\\n",
       "\\end{tabular}\n"
      ],
      "text/markdown": [
       "\n",
       "A matrix: 3 × 3 of type dbl\n",
       "\n",
       "|  1.5 |  0.5 |  0.5 |\n",
       "|  0.5 |  0.5 |  0.5 |\n",
       "| -2.5 | -0.5 | -1.5 |\n",
       "\n"
      ],
      "text/plain": [
       "     [,1] [,2] [,3]\n",
       "[1,]  1.5  0.5  0.5\n",
       "[2,]  0.5  0.5  0.5\n",
       "[3,] -2.5 -0.5 -1.5"
      ]
     },
     "metadata": {},
     "output_type": "display_data"
    }
   ],
   "source": [
    "transpose = t(AI) #Transpose of Matrix\n",
    "transpose"
   ]
  },
  {
   "cell_type": "code",
   "execution_count": 68,
   "metadata": {},
   "outputs": [
    {
     "data": {
      "text/html": [
       "<style>\n",
       ".list-inline {list-style: none; margin:0; padding: 0}\n",
       ".list-inline>li {display: inline-block}\n",
       ".list-inline>li:not(:last-child)::after {content: \"\\00b7\"; padding: 0 .5ex}\n",
       "</style>\n",
       "<ol class=list-inline><li>2</li><li>1</li><li>-1</li></ol>\n"
      ],
      "text/latex": [
       "\\begin{enumerate*}\n",
       "\\item 2\n",
       "\\item 1\n",
       "\\item -1\n",
       "\\end{enumerate*}\n"
      ],
      "text/markdown": [
       "1. 2\n",
       "2. 1\n",
       "3. -1\n",
       "\n",
       "\n"
      ],
      "text/plain": [
       "[1]  2  1 -1"
      ]
     },
     "metadata": {},
     "output_type": "display_data"
    }
   ],
   "source": [
    "e = eigen(A)\n",
    "e$values"
   ]
  },
  {
   "cell_type": "markdown",
   "metadata": {},
   "source": [
    "**Question:3.** Multiply A with B"
   ]
  },
  {
   "cell_type": "code",
   "execution_count": 69,
   "metadata": {},
   "outputs": [
    {
     "data": {
      "text/html": [
       "<table>\n",
       "<caption>A matrix: 3 × 3 of type dbl</caption>\n",
       "<tbody>\n",
       "\t<tr><td> 6</td><td> 2</td><td>0</td></tr>\n",
       "\t<tr><td>-8</td><td>-4</td><td>2</td></tr>\n",
       "\t<tr><td> 0</td><td> 2</td><td>2</td></tr>\n",
       "</tbody>\n",
       "</table>\n"
      ],
      "text/latex": [
       "A matrix: 3 × 3 of type dbl\n",
       "\\begin{tabular}{lll}\n",
       "\t  6 &  2 & 0\\\\\n",
       "\t -8 & -4 & 2\\\\\n",
       "\t  0 &  2 & 2\\\\\n",
       "\\end{tabular}\n"
      ],
      "text/markdown": [
       "\n",
       "A matrix: 3 × 3 of type dbl\n",
       "\n",
       "|  6 |  2 | 0 |\n",
       "| -8 | -4 | 2 |\n",
       "|  0 |  2 | 2 |\n",
       "\n"
      ],
      "text/plain": [
       "     [,1] [,2] [,3]\n",
       "[1,]  6    2   0   \n",
       "[2,] -8   -4   2   \n",
       "[3,]  0    2   2   "
      ]
     },
     "metadata": {},
     "output_type": "display_data"
    }
   ],
   "source": [
    "Mul = A * B\n",
    "Mul"
   ]
  },
  {
   "cell_type": "markdown",
   "metadata": {},
   "source": [
    "**Question:4.**Estimate the eigenvalues and eigenvectors of A."
   ]
  },
  {
   "cell_type": "code",
   "execution_count": 70,
   "metadata": {},
   "outputs": [
    {
     "data": {
      "text/plain": [
       "eigen() decomposition\n",
       "$values\n",
       "[1]  2  1 -1\n",
       "\n",
       "$vectors\n",
       "          [,1]       [,2]          [,3]\n",
       "[1,] 0.3015113 -0.8017837  7.071068e-01\n",
       "[2,] 0.9045340 -0.5345225 -1.922963e-16\n",
       "[3,] 0.3015113 -0.2672612  7.071068e-01\n"
      ]
     },
     "metadata": {},
     "output_type": "display_data"
    }
   ],
   "source": [
    "ev = eigen(A) #Eigen value of the matrix A \n",
    "ev"
   ]
  },
  {
   "cell_type": "code",
   "execution_count": 71,
   "metadata": {},
   "outputs": [],
   "source": [
    "x = ev$values #assign X to eigen values "
   ]
  },
  {
   "cell_type": "code",
   "execution_count": 72,
   "metadata": {},
   "outputs": [],
   "source": [
    "lamda = ev$vectors #assign lamda to eigen vectors "
   ]
  },
  {
   "cell_type": "markdown",
   "metadata": {},
   "source": [
    "**Question:5.** For a matrix A, x is an eigenvector, and λ the eigenvalue of a matrix A, if A • x = λ • x. Test it!"
   ]
  },
  {
   "cell_type": "code",
   "execution_count": 73,
   "metadata": {},
   "outputs": [
    {
     "data": {
      "text/html": [
       "<table>\n",
       "<caption>A matrix: 3 × 3 of type lgl</caption>\n",
       "<tbody>\n",
       "\t<tr><td>FALSE</td><td>FALSE</td><td>FALSE</td></tr>\n",
       "\t<tr><td>FALSE</td><td>FALSE</td><td>FALSE</td></tr>\n",
       "\t<tr><td>FALSE</td><td>FALSE</td><td>FALSE</td></tr>\n",
       "</tbody>\n",
       "</table>\n"
      ],
      "text/latex": [
       "A matrix: 3 × 3 of type lgl\n",
       "\\begin{tabular}{lll}\n",
       "\t FALSE & FALSE & FALSE\\\\\n",
       "\t FALSE & FALSE & FALSE\\\\\n",
       "\t FALSE & FALSE & FALSE\\\\\n",
       "\\end{tabular}\n"
      ],
      "text/markdown": [
       "\n",
       "A matrix: 3 × 3 of type lgl\n",
       "\n",
       "| FALSE | FALSE | FALSE |\n",
       "| FALSE | FALSE | FALSE |\n",
       "| FALSE | FALSE | FALSE |\n",
       "\n"
      ],
      "text/plain": [
       "     [,1]  [,2]  [,3] \n",
       "[1,] FALSE FALSE FALSE\n",
       "[2,] FALSE FALSE FALSE\n",
       "[3,] FALSE FALSE FALSE"
      ]
     },
     "metadata": {},
     "output_type": "display_data"
    }
   ],
   "source": [
    "A*x == lamda*x"
   ]
  },
  {
   "cell_type": "code",
   "execution_count": 74,
   "metadata": {},
   "outputs": [],
   "source": [
    "I <- matrix( c(1, 0, 0,0,1, 0,0, 0,1), nrow=3, byrow=TRUE)"
   ]
  },
  {
   "cell_type": "code",
   "execution_count": 75,
   "metadata": {},
   "outputs": [
    {
     "data": {
      "text/html": [
       "<table>\n",
       "<caption>A matrix: 3 × 3 of type dbl</caption>\n",
       "<tbody>\n",
       "\t<tr><td> 0.6984887</td><td>1.000000</td><td>-2.000000</td></tr>\n",
       "\t<tr><td>-1.0000000</td><td>2.534522</td><td> 1.000000</td></tr>\n",
       "\t<tr><td> 0.0000000</td><td>1.000000</td><td>-1.707107</td></tr>\n",
       "</tbody>\n",
       "</table>\n"
      ],
      "text/latex": [
       "A matrix: 3 × 3 of type dbl\n",
       "\\begin{tabular}{lll}\n",
       "\t  0.6984887 & 1.000000 & -2.000000\\\\\n",
       "\t -1.0000000 & 2.534522 &  1.000000\\\\\n",
       "\t  0.0000000 & 1.000000 & -1.707107\\\\\n",
       "\\end{tabular}\n"
      ],
      "text/markdown": [
       "\n",
       "A matrix: 3 × 3 of type dbl\n",
       "\n",
       "|  0.6984887 | 1.000000 | -2.000000 |\n",
       "| -1.0000000 | 2.534522 |  1.000000 |\n",
       "|  0.0000000 | 1.000000 | -1.707107 |\n",
       "\n"
      ],
      "text/plain": [
       "     [,1]       [,2]     [,3]     \n",
       "[1,]  0.6984887 1.000000 -2.000000\n",
       "[2,] -1.0000000 2.534522  1.000000\n",
       "[3,]  0.0000000 1.000000 -1.707107"
      ]
     },
     "metadata": {},
     "output_type": "display_data"
    }
   ],
   "source": [
    "A - (lamda*I)"
   ]
  },
  {
   "cell_type": "code",
   "execution_count": 76,
   "metadata": {},
   "outputs": [
    {
     "data": {
      "text/html": [
       "<table>\n",
       "<caption>A matrix: 3 × 3 of type dbl</caption>\n",
       "<tbody>\n",
       "\t<tr><td> 0.6030227</td><td>-1.6035675</td><td> 1.414214e+00</td></tr>\n",
       "\t<tr><td> 0.9045340</td><td>-0.5345225</td><td>-1.922963e-16</td></tr>\n",
       "\t<tr><td>-0.3015113</td><td> 0.2672612</td><td>-7.071068e-01</td></tr>\n",
       "</tbody>\n",
       "</table>\n"
      ],
      "text/latex": [
       "A matrix: 3 × 3 of type dbl\n",
       "\\begin{tabular}{lll}\n",
       "\t  0.6030227 & -1.6035675 &  1.414214e+00\\\\\n",
       "\t  0.9045340 & -0.5345225 & -1.922963e-16\\\\\n",
       "\t -0.3015113 &  0.2672612 & -7.071068e-01\\\\\n",
       "\\end{tabular}\n"
      ],
      "text/markdown": [
       "\n",
       "A matrix: 3 × 3 of type dbl\n",
       "\n",
       "|  0.6030227 | -1.6035675 |  1.414214e+00 |\n",
       "|  0.9045340 | -0.5345225 | -1.922963e-16 |\n",
       "| -0.3015113 |  0.2672612 | -7.071068e-01 |\n",
       "\n"
      ],
      "text/plain": [
       "     [,1]       [,2]       [,3]         \n",
       "[1,]  0.6030227 -1.6035675  1.414214e+00\n",
       "[2,]  0.9045340 -0.5345225 -1.922963e-16\n",
       "[3,] -0.3015113  0.2672612 -7.071068e-01"
      ]
     },
     "metadata": {},
     "output_type": "display_data"
    }
   ],
   "source": [
    "lamda*x"
   ]
  },
  {
   "cell_type": "code",
   "execution_count": 77,
   "metadata": {},
   "outputs": [
    {
     "data": {
      "text/html": [
       "<table>\n",
       "<caption>A matrix: 3 × 3 of type dbl</caption>\n",
       "<tbody>\n",
       "\t<tr><td> 2</td><td> 2</td><td>-4</td></tr>\n",
       "\t<tr><td>-1</td><td> 2</td><td> 1</td></tr>\n",
       "\t<tr><td> 0</td><td>-1</td><td> 1</td></tr>\n",
       "</tbody>\n",
       "</table>\n"
      ],
      "text/latex": [
       "A matrix: 3 × 3 of type dbl\n",
       "\\begin{tabular}{lll}\n",
       "\t  2 &  2 & -4\\\\\n",
       "\t -1 &  2 &  1\\\\\n",
       "\t  0 & -1 &  1\\\\\n",
       "\\end{tabular}\n"
      ],
      "text/markdown": [
       "\n",
       "A matrix: 3 × 3 of type dbl\n",
       "\n",
       "|  2 |  2 | -4 |\n",
       "| -1 |  2 |  1 |\n",
       "|  0 | -1 |  1 |\n",
       "\n"
      ],
      "text/plain": [
       "     [,1] [,2] [,3]\n",
       "[1,]  2    2   -4  \n",
       "[2,] -1    2    1  \n",
       "[3,]  0   -1    1  "
      ]
     },
     "metadata": {},
     "output_type": "display_data"
    }
   ],
   "source": [
    "A*x"
   ]
  },
  {
   "cell_type": "markdown",
   "metadata": {},
   "source": [
    "**Question:6.** Create a new matrix, T, which equals P, except for the first row, where the elements are 0."
   ]
  },
  {
   "cell_type": "code",
   "execution_count": 78,
   "metadata": {},
   "outputs": [],
   "source": [
    "T = matrix( c(0,0,0,-1,2,1,0,1,-1), nrow=3, byrow=TRUE)\n",
    "P = matrix( c(1,1,-2,-1,2,1,0,1,-1), nrow=3, byrow=TRUE)"
   ]
  },
  {
   "cell_type": "markdown",
   "metadata": {},
   "source": [
    "**Question:7.** Now estimate N= (I-T)-1, where I is the identity matrix."
   ]
  },
  {
   "cell_type": "code",
   "execution_count": 79,
   "metadata": {},
   "outputs": [
    {
     "data": {
      "text/html": [
       "<table>\n",
       "<caption>A matrix: 3 × 3 of type dbl</caption>\n",
       "<tbody>\n",
       "\t<tr><td>1</td><td>0</td><td>0</td></tr>\n",
       "\t<tr><td>0</td><td>1</td><td>0</td></tr>\n",
       "\t<tr><td>0</td><td>0</td><td>1</td></tr>\n",
       "</tbody>\n",
       "</table>\n"
      ],
      "text/latex": [
       "A matrix: 3 × 3 of type dbl\n",
       "\\begin{tabular}{lll}\n",
       "\t 1 & 0 & 0\\\\\n",
       "\t 0 & 1 & 0\\\\\n",
       "\t 0 & 0 & 1\\\\\n",
       "\\end{tabular}\n"
      ],
      "text/markdown": [
       "\n",
       "A matrix: 3 × 3 of type dbl\n",
       "\n",
       "| 1 | 0 | 0 |\n",
       "| 0 | 1 | 0 |\n",
       "| 0 | 0 | 1 |\n",
       "\n"
      ],
      "text/plain": [
       "     [,1] [,2] [,3]\n",
       "[1,] 1    0    0   \n",
       "[2,] 0    1    0   \n",
       "[3,] 0    0    1   "
      ]
     },
     "metadata": {},
     "output_type": "display_data"
    }
   ],
   "source": [
    "I = matrix( c(1,0,0,0,1,0,0,0,1), nrow=3, byrow=TRUE)\n",
    "I"
   ]
  },
  {
   "cell_type": "markdown",
   "metadata": {},
   "source": [
    "**Question:8.** Now estimate N= (I-T)-1, where I is the identity matrix."
   ]
  },
  {
   "cell_type": "code",
   "execution_count": 80,
   "metadata": {},
   "outputs": [
    {
     "data": {
      "text/html": [
       "<table>\n",
       "<caption>A matrix: 3 × 3 of type dbl</caption>\n",
       "<tbody>\n",
       "\t<tr><td> 0</td><td>-1</td><td>-1</td></tr>\n",
       "\t<tr><td> 0</td><td>-2</td><td>-2</td></tr>\n",
       "\t<tr><td>-1</td><td>-2</td><td> 1</td></tr>\n",
       "</tbody>\n",
       "</table>\n"
      ],
      "text/latex": [
       "A matrix: 3 × 3 of type dbl\n",
       "\\begin{tabular}{lll}\n",
       "\t  0 & -1 & -1\\\\\n",
       "\t  0 & -2 & -2\\\\\n",
       "\t -1 & -2 &  1\\\\\n",
       "\\end{tabular}\n"
      ],
      "text/markdown": [
       "\n",
       "A matrix: 3 × 3 of type dbl\n",
       "\n",
       "|  0 | -1 | -1 |\n",
       "|  0 | -2 | -2 |\n",
       "| -1 | -2 |  1 |\n",
       "\n"
      ],
      "text/plain": [
       "     [,1] [,2] [,3]\n",
       "[1,]  0   -1   -1  \n",
       "[2,]  0   -2   -2  \n",
       "[3,] -1   -2    1  "
      ]
     },
     "metadata": {},
     "output_type": "display_data"
    }
   ],
   "source": [
    "N = (I - T) - 1 \n",
    "N"
   ]
  },
  {
   "cell_type": "markdown",
   "metadata": {},
   "source": [
    "**Question:9.** Find the root of the equation f(x) = cos(2x)^3 in the interval [0, 8]. And draw the function curve."
   ]
  },
  {
   "cell_type": "code",
   "execution_count": 81,
   "metadata": {},
   "outputs": [
    {
     "data": {
      "image/png": "[encoded data removed]",
      "text/plain": [
       "plot without title"
      ]
     },
     "metadata": {},
     "output_type": "display_data"
    }
   ],
   "source": [
    "fun = function (x){ cos(2*x)^3}\n",
    "curve(fun(x), 0, 8)\n",
    "abline(h = 0, lty = 3)\n",
    "uni <- uniroot(fun, c(0, 8))$root\n",
    "points(uni, 0, pch = 16, cex = 2)"
   ]
  },
  {
   "cell_type": "code",
   "execution_count": null,
   "metadata": {},
   "outputs": [],
   "source": []
  }
 ],
 "metadata": {
  "kernelspec": {
   "display_name": "R",
   "language": "R",
   "name": "ir"
  },
  "language_info": {
   "codemirror_mode": "r",
   "file_extension": ".r",
   "mimetype": "text/x-r-source",
   "name": "R",
   "pygments_lexer": "r",
   "version": "3.6.1"
  }
 },
 "nbformat": 4,
 "nbformat_minor": 4
}
