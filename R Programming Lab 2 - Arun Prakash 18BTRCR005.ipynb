{
 "cells": [
  {
   "cell_type": "markdown",
   "metadata": {},
   "source": [
    "**1. Create some complex data structure variables such as list and data frames\n",
    "using list() and data.frame commands.**"
   ]
  },
  {
   "cell_type": "code",
   "execution_count": 18,
   "metadata": {},
   "outputs": [
    {
     "data": {
      "text/html": [
       "<dl>\n",
       "\t<dt>$name</dt>\n",
       "\t\t<dd>'Jeff'</dd>\n",
       "\t<dt>$gender</dt>\n",
       "\t\t<dd>'M'</dd>\n",
       "\t<dt>$company</dt>\n",
       "\t\t<dd>'Data-Science'</dd>\n",
       "</dl>\n"
      ],
      "text/latex": [
       "\\begin{description}\n",
       "\\item[\\$name] 'Jeff'\n",
       "\\item[\\$gender] 'M'\n",
       "\\item[\\$company] 'Data-Science'\n",
       "\\end{description}\n"
      ],
      "text/markdown": [
       "$name\n",
       ":   'Jeff'\n",
       "$gender\n",
       ":   'M'\n",
       "$company\n",
       ":   'Data-Science'\n",
       "\n",
       "\n"
      ],
      "text/plain": [
       "$name\n",
       "[1] \"Jeff\"\n",
       "\n",
       "$gender\n",
       "[1] \"M\"\n",
       "\n",
       "$company\n",
       "[1] \"Data-Science\"\n"
      ]
     },
     "metadata": {},
     "output_type": "display_data"
    }
   ],
   "source": [
    "x=list(name=\"Jeff\",gender=\"M\",company=\"Data-Science\")\n",
    "x"
   ]
  },
  {
   "cell_type": "code",
   "execution_count": 2,
   "metadata": {},
   "outputs": [
    {
     "data": {
      "text/html": [
       "<table>\n",
       "<thead><tr><th scope=col>name</th><th scope=col>age</th><th scope=col>student</th></tr></thead>\n",
       "<tbody>\n",
       "\t<tr><td>Jeff     </td><td>25       </td><td>FALSE    </td></tr>\n",
       "\t<tr><td>Jonathan </td><td>19       </td><td> TRUE    </td></tr>\n",
       "\t<tr><td>Sebastian</td><td>20       </td><td> TRUE    </td></tr>\n",
       "</tbody>\n",
       "</table>\n"
      ],
      "text/latex": [
       "\\begin{tabular}{r|lll}\n",
       " name & age & student\\\\\n",
       "\\hline\n",
       "\t Jeff      & 25        & FALSE    \\\\\n",
       "\t Jonathan  & 19        &  TRUE    \\\\\n",
       "\t Sebastian & 20        &  TRUE    \\\\\n",
       "\\end{tabular}\n"
      ],
      "text/markdown": [
       "\n",
       "| name | age | student |\n",
       "|---|---|---|\n",
       "| Jeff      | 25        | FALSE     |\n",
       "| Jonathan  | 19        |  TRUE     |\n",
       "| Sebastian | 20        |  TRUE     |\n",
       "\n"
      ],
      "text/plain": [
       "  name      age student\n",
       "1 Jeff      25  FALSE  \n",
       "2 Jonathan  19   TRUE  \n",
       "3 Sebastian 20   TRUE  "
      ]
     },
     "metadata": {},
     "output_type": "display_data"
    }
   ],
   "source": [
    "df=data.frame(name=c(\"Jeff\",\"Jonathan\",\"Sebastian\"),age=c(25,19,20),student=c(FALSE,TRUE,TRUE))\n",
    "df"
   ]
  },
  {
   "cell_type": "markdown",
   "metadata": {},
   "source": [
    "**2. Create data using data.frames, lists, and tables.**"
   ]
  },
  {
   "cell_type": "code",
   "execution_count": 4,
   "metadata": {},
   "outputs": [
    {
     "data": {
      "text/plain": [
       "        High Low Middle\n",
       "Current   49  36     10\n",
       "Former    58  46      9\n",
       "Never     78  65      5"
      ]
     },
     "metadata": {},
     "output_type": "display_data"
    }
   ],
   "source": [
    "elec=matrix(c(49,36,10,58,46,9,78,65,5),nrow=3,byrow=T)\n",
    "\n",
    "colnames(elec)=c(\"High\",\"Low\",\"Middle\")\n",
    "\n",
    "rownames(elec)=c(\"Current\",\"Former\",\"Never\")\n",
    "\n",
    "#matrix to table\n",
    "elec=as.table(elec)\n",
    "\n",
    "elec"
   ]
  },
  {
   "cell_type": "markdown",
   "metadata": {},
   "source": [
    "**4. Explore data type conversions from one data structure to another with\n",
    "commands such as as.data.frame(), as.vector(), is.data.frame(), is.vector; and find the data\n",
    "type with class() command.**"
   ]
  },
  {
   "cell_type": "code",
   "execution_count": 5,
   "metadata": {},
   "outputs": [],
   "source": [
    "player.runs=c(58,46,99,50,69)\n",
    "player.names=c(\"Sachin\",\"Yuvaraj\",\"Dhoni\",\"Kohli\",\"Rahul\")"
   ]
  },
  {
   "cell_type": "code",
   "execution_count": 6,
   "metadata": {},
   "outputs": [
    {
     "data": {
      "text/html": [
       "<ol class=list-inline>\n",
       "\t<li>58</li>\n",
       "\t<li>46</li>\n",
       "\t<li>99</li>\n",
       "\t<li>50</li>\n",
       "\t<li>69</li>\n",
       "</ol>\n"
      ],
      "text/latex": [
       "\\begin{enumerate*}\n",
       "\\item 58\n",
       "\\item 46\n",
       "\\item 99\n",
       "\\item 50\n",
       "\\item 69\n",
       "\\end{enumerate*}\n"
      ],
      "text/markdown": [
       "1. 58\n",
       "2. 46\n",
       "3. 99\n",
       "4. 50\n",
       "5. 69\n",
       "\n",
       "\n"
      ],
      "text/plain": [
       "[1] 58 46 99 50 69"
      ]
     },
     "metadata": {},
     "output_type": "display_data"
    }
   ],
   "source": [
    "as.integer(player.runs)"
   ]
  },
  {
   "cell_type": "code",
   "execution_count": 7,
   "metadata": {},
   "outputs": [
    {
     "name": "stderr",
     "output_type": "stream",
     "text": [
      "Warning message in eval(expr, envir, enclos):\n",
      "\"NAs introduced by coercion\""
     ]
    },
    {
     "data": {
      "text/html": [
       "<ol class=list-inline>\n",
       "\t<li>&lt;NA&gt;</li>\n",
       "\t<li>&lt;NA&gt;</li>\n",
       "\t<li>&lt;NA&gt;</li>\n",
       "\t<li>&lt;NA&gt;</li>\n",
       "\t<li>&lt;NA&gt;</li>\n",
       "</ol>\n"
      ],
      "text/latex": [
       "\\begin{enumerate*}\n",
       "\\item <NA>\n",
       "\\item <NA>\n",
       "\\item <NA>\n",
       "\\item <NA>\n",
       "\\item <NA>\n",
       "\\end{enumerate*}\n"
      ],
      "text/markdown": [
       "1. &lt;NA&gt;\n",
       "2. &lt;NA&gt;\n",
       "3. &lt;NA&gt;\n",
       "4. &lt;NA&gt;\n",
       "5. &lt;NA&gt;\n",
       "\n",
       "\n"
      ],
      "text/plain": [
       "[1] NA NA NA NA NA"
      ]
     },
     "metadata": {},
     "output_type": "display_data"
    }
   ],
   "source": [
    "as.numeric(player.names)"
   ]
  },
  {
   "cell_type": "code",
   "execution_count": 8,
   "metadata": {
    "scrolled": true
   },
   "outputs": [
    {
     "data": {
      "text/html": [
       "<ol class=list-inline>\n",
       "\t<li>'Sachin'</li>\n",
       "\t<li>'Yuvaraj'</li>\n",
       "\t<li>'Dhoni'</li>\n",
       "\t<li>'Kohli'</li>\n",
       "\t<li>'Rahul'</li>\n",
       "</ol>\n"
      ],
      "text/latex": [
       "\\begin{enumerate*}\n",
       "\\item 'Sachin'\n",
       "\\item 'Yuvaraj'\n",
       "\\item 'Dhoni'\n",
       "\\item 'Kohli'\n",
       "\\item 'Rahul'\n",
       "\\end{enumerate*}\n"
      ],
      "text/markdown": [
       "1. 'Sachin'\n",
       "2. 'Yuvaraj'\n",
       "3. 'Dhoni'\n",
       "4. 'Kohli'\n",
       "5. 'Rahul'\n",
       "\n",
       "\n"
      ],
      "text/plain": [
       "[1] \"Sachin\"  \"Yuvaraj\" \"Dhoni\"   \"Kohli\"   \"Rahul\"  "
      ]
     },
     "metadata": {},
     "output_type": "display_data"
    }
   ],
   "source": [
    "as.character(player.names)"
   ]
  },
  {
   "cell_type": "code",
   "execution_count": 9,
   "metadata": {},
   "outputs": [
    {
     "data": {
      "text/html": [
       "'character'"
      ],
      "text/latex": [
       "'character'"
      ],
      "text/markdown": [
       "'character'"
      ],
      "text/plain": [
       "[1] \"character\""
      ]
     },
     "metadata": {},
     "output_type": "display_data"
    },
    {
     "data": {
      "text/html": [
       "'numeric'"
      ],
      "text/latex": [
       "'numeric'"
      ],
      "text/markdown": [
       "'numeric'"
      ],
      "text/plain": [
       "[1] \"numeric\""
      ]
     },
     "metadata": {},
     "output_type": "display_data"
    }
   ],
   "source": [
    "class(player.names)\n",
    "class(player.runs)"
   ]
  },
  {
   "cell_type": "markdown",
   "metadata": {},
   "source": [
    "**5. Explore function programming in R.**"
   ]
  },
  {
   "cell_type": "code",
   "execution_count": 11,
   "metadata": {},
   "outputs": [
    {
     "name": "stdout",
     "output_type": "stream",
     "text": [
      "[1] 2\n",
      "[1] 4\n",
      "[1] 6\n",
      "[1] 8\n",
      "[1] 10\n",
      "[1] 12\n"
     ]
    }
   ],
   "source": [
    "new.function=function(a){\n",
    "    for(i in 1:a) {\n",
    "        b=i*2\n",
    "        print(b)\n",
    "    }\n",
    "}\n",
    "\n",
    "new.function(6)"
   ]
  },
  {
   "cell_type": "markdown",
   "metadata": {},
   "source": [
    "**6. Explore loops in R programming such as if-else-ifelse, for, while, repeat-break.**"
   ]
  },
  {
   "cell_type": "code",
   "execution_count": 15,
   "metadata": {},
   "outputs": [
    {
     "name": "stdout",
     "output_type": "stream",
     "text": [
      "[1] 1\n"
     ]
    }
   ],
   "source": [
    "#for loop\n",
    "x=c(5,7,9,3,1,4,2)\n",
    "count=0\n",
    "for(i in x){\n",
    "    if(i%%4==0) count=count+1\n",
    "}\n",
    "print(count)"
   ]
  },
  {
   "cell_type": "code",
   "execution_count": 16,
   "metadata": {},
   "outputs": [
    {
     "name": "stdout",
     "output_type": "stream",
     "text": [
      "[1] \"Non-negative number\"\n"
     ]
    }
   ],
   "source": [
    "#if else\n",
    "x=5\n",
    "if(x>0){\n",
    "    print(\"Non-negative number\")\n",
    "} else{\n",
    "    print(\"Negative number\")\n",
    "}"
   ]
  },
  {
   "cell_type": "code",
   "execution_count": 17,
   "metadata": {},
   "outputs": [
    {
     "name": "stdout",
     "output_type": "stream",
     "text": [
      "[1] -1\n",
      "[1] 0\n",
      "[1] 1\n",
      "[1] 2\n",
      "[1] 3\n",
      "[1] 4\n",
      "[1] 5\n"
     ]
    }
   ],
   "source": [
    "#while loop\n",
    "i=-1\n",
    "while(i<6){\n",
    "    print(i)\n",
    "    i=i+1\n",
    "}"
   ]
  }
 ],
 "metadata": {
  "kernelspec": {
   "display_name": "R",
   "language": "R",
   "name": "ir"
  },
  "language_info": {
   "codemirror_mode": "r",
   "file_extension": ".r",
   "mimetype": "text/x-r-source",
   "name": "R",
   "pygments_lexer": "r",
   "version": "3.6.1"
  }
 },
 "nbformat": 4,
 "nbformat_minor": 2
}
